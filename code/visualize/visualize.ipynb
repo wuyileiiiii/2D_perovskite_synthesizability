{
 "cells": [
  {
   "cell_type": "code",
   "execution_count": 1,
   "id": "fdc5c3f4",
   "metadata": {
    "scrolled": true
   },
   "outputs": [],
   "source": [
    "from graphics import *\n",
    "import numpy as np\n",
    "import xlrd\n",
    "from matplotlib import colors\n",
    "import matplotlib.pyplot as plt\n",
    "import matplotlib\n",
    "matplotlib.use('Qt5Agg')\n",
    "from itertools import chain\n",
    "from rdkit import Chem\n",
    "from rdkit.Chem import AllChem\n",
    "import pickle\n",
    "from rdkit.Chem import Draw\n",
    "from rdkit.Chem.Draw import rdMolDraw2D"
   ]
  },
  {
   "cell_type": "code",
   "execution_count": 2,
   "id": "da36e2e0",
   "metadata": {},
   "outputs": [],
   "source": [
    "def data_load(filename, Sheet):\n",
    "    data = xlrd.open_workbook(filename)  # 打开excel\n",
    "    table = data.sheet_by_name(Sheet)  # 读sheet\n",
    "    nrows = table.nrows  # 获得行数\n",
    "    result = []\n",
    "    for i in range(1, nrows):\n",
    "        rows = table.row_values(i)  # 行的数据放在数组里\n",
    "        result.append(rows)\n",
    "    SMILES = [x[0] for x in result]  \n",
    "    probability = [x[1] for x in result]  \n",
    "    tsne1 = [x[2] for x in result]  \n",
    "    tsne2 = [x[3] for x in result]  \n",
    "    tsne = np.array([x[2: 4] for x in result])\n",
    "\n",
    "\n",
    "    return SMILES, probability, tsne1, tsne2, tsne\n",
    "        "
   ]
  },
  {
   "cell_type": "code",
   "execution_count": 3,
   "id": "8b089526",
   "metadata": {},
   "outputs": [],
   "source": [
    "path = \"C:/Users/ylwu/Desktop/python/predict/\"\n",
    "workbook = path + \"predict_result.xlsx\"  # Input data excel\n",
    "sheet = str(\"Sheet1\")\n",
    "SMILES, probability, tsne1, tsne2, tsne = data_load(workbook, sheet)"
   ]
  },
  {
   "cell_type": "code",
   "execution_count": 10,
   "id": "d392ed26",
   "metadata": {},
   "outputs": [
    {
     "name": "stdout",
     "output_type": "stream",
     "text": [
      "id: []\n"
     ]
    }
   ],
   "source": [
    "sc = plt.scatter(tsne1, tsne2, s=200, c=probability, marker = \".\", cmap=plt.cm.cool, edgecolors='none')\n",
    "plt.colorbar(sc)\n",
    "\n",
    "clicked_point = plt.ginput(1)\n",
    "clike_x =  clicked_point[0][0]\n",
    "clike_y =  clicked_point[0][1]\n",
    "clike = np.array([clike_x,clike_y])\n",
    "c = np.around(clike, decimals=0)\n",
    "plt.show()\n",
    "plt.close()\n",
    "g = np.argwhere(tsne == c)\n",
    "tsne11 = np.around(tsne1, decimals=0)\n",
    "tsne21 = np.around(tsne2, decimals=0)\n",
    "cx = round(clike_x,0)\n",
    "cy = round(clike_y,0)\n",
    "indexx = np.argwhere(tsne11 == cx)\n",
    "indexy = np.argwhere(tsne21 == cy)\n",
    "xx = list(chain.from_iterable(indexx))\n",
    "yy = list(chain.from_iterable(indexy))\n",
    "id = np.intersect1d(xx,yy)\n",
    "print (\"id:\", id)\n",
    "for i in id:\n",
    "    SMILE = SMILES[i]\n",
    "    mol = Chem.MolFromSmiles(SMILE)\n",
    "    ind = SMILES.index(SMILE)\n",
    "    P = probability[ind]\n",
    "    file = str(i) +\"_\" + str(P) + \".png\"\n",
    "    Draw.MolToFile(mol, filename = file)"
   ]
  },
  {
   "cell_type": "code",
   "execution_count": null,
   "id": "d3444c14",
   "metadata": {},
   "outputs": [],
   "source": []
  },
  {
   "cell_type": "code",
   "execution_count": null,
   "id": "ffc3c937",
   "metadata": {},
   "outputs": [],
   "source": []
  }
 ],
 "metadata": {
  "kernelspec": {
   "display_name": "Python 3 (ipykernel)",
   "language": "python",
   "name": "python3"
  },
  "language_info": {
   "codemirror_mode": {
    "name": "ipython",
    "version": 3
   },
   "file_extension": ".py",
   "mimetype": "text/x-python",
   "name": "python",
   "nbconvert_exporter": "python",
   "pygments_lexer": "ipython3",
   "version": "3.7.9"
  }
 },
 "nbformat": 4,
 "nbformat_minor": 5
}
